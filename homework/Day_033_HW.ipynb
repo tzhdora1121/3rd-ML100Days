{
 "cells": [
  {
   "cell_type": "markdown",
   "metadata": {},
   "source": [
    "## 練習時間"
   ]
  },
  {
   "cell_type": "markdown",
   "metadata": {},
   "source": [
    "請觀看李宏毅教授以神奇寶貝進化 CP 值預測的範例，解說何謂機器學習與過擬合。並回答以下問題"
   ]
  },
  {
   "cell_type": "markdown",
   "metadata": {},
   "source": [
    "[youtube](https://www.youtube.com/watch?v=fegAeph9UaA)"
   ]
  },
  {
   "cell_type": "markdown",
   "metadata": {},
   "source": [
    "### 1. 模型的泛化能力 (generalization) 是指什麼？ \n",
    "\n",
    "重新定義loss function, 設定一些額外的條件，加上一些constraint，使得模型不會over fitting。\n",
    "\n",
    "### 2. 分類問題與回歸問題分別可用的目標函數有哪些？\n",
    "\n",
    "對於迴歸問題，可以選用以下幾種目標函數：\n",
    "1. 均方誤差(MSE, mean squared error)，又稱為L2 loss function\n",
    "2. 平均絕對誤差(MAE, mean absolute error)，又稱為L1 loss function\n",
    "3. 決定係數(coefficient of determination)\n",
    "4. 平滑平均絕對誤差(Huber Loss)\n",
    "\n",
    "對於分類問題，可以選用以下幾種目標函數：\n",
    "1. 0-1損失函數\n",
    "2. 交叉熵損失函數(Logistic迴歸)\n",
    "3. 交叉熵損失函數(Softmax)\n",
    "4. 準確率\n",
    "5. 錯誤率\n",
    "6. 得到混淆矩陣，進一步得到查準率(precision)、查全率(recall)\n",
    "7. P-R曲線\n",
    "8. ROC曲線。"
   ]
  }
 ],
 "metadata": {
  "kernelspec": {
   "display_name": "Python 3",
   "language": "python",
   "name": "python3"
  },
  "language_info": {
   "codemirror_mode": {
    "name": "ipython",
    "version": 3
   },
   "file_extension": ".py",
   "mimetype": "text/x-python",
   "name": "python",
   "nbconvert_exporter": "python",
   "pygments_lexer": "ipython3",
   "version": "3.7.3"
  }
 },
 "nbformat": 4,
 "nbformat_minor": 2
}
