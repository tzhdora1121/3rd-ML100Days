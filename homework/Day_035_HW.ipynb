{
 "cells": [
  {
   "cell_type": "markdown",
   "metadata": {},
   "source": [
    "## 練習時間\n",
    "相信大家對回歸問題及分類問題都有初步的了解。今天的作業希望大家搜尋有關 multi-label 的案例問題。下圖是電影 \"奇異博士\" 的分類。可以看到同時有 \"Action\", \"Adventure\", \"Fantasy\" 的類別存在，代表這是個多標籤的問題。 "
   ]
  },
  {
   "cell_type": "markdown",
   "metadata": {},
   "source": [
    "![image](https://cdn-images-1.medium.com/max/1000/1*r0gYXMSQf5VhdMyl2bRDyg.png)"
   ]
  },
  {
   "cell_type": "markdown",
   "metadata": {},
   "source": [
    "## 請搜尋目標為多標籤問題 (Multi-label) 的機器學習案例，了解其資料來源、目標以及評估指標為何\n",
    "\n",
    "文章標題：\n",
    "\n",
    "Multi-Label Classification of Patient Notes: Case Study on ICD Code Assignment\n",
    "\n",
    "\n",
    "摘要及目標：\n",
    "\n",
    "現今醫院多使用電子病歷(EHR)來記錄病患的醫療資訊，其中關於病名，有國際通用的各病名代號ICD，目前更新至ICD10版。而一個病人可能同時罹患許多疾病，因此EHR紀錄上有多個ICD10的代碼，這篇文章想要利用病人的病摘，來推測病人所擁有的ICD10多標籤代碼。\n",
    "\n",
    "\n",
    "資料來源：\n",
    "\n",
    "作者使用來自貝斯以色列女執事醫療中心的ICU住院病人的公開可識別的MIMIC數據集。\n",
    "\n",
    "\n",
    "評估指標：\n",
    "\n",
    "常見的多標籤分類問題的評估指標有以下五種，hamming loss、one-error、coverage、ranking loss、average precision，本文綜合了hamming loss和ranking loss作為評估指標。"
   ]
  }
 ],
 "metadata": {
  "kernelspec": {
   "display_name": "Python 3",
   "language": "python",
   "name": "python3"
  },
  "language_info": {
   "codemirror_mode": {
    "name": "ipython",
    "version": 3
   },
   "file_extension": ".py",
   "mimetype": "text/x-python",
   "name": "python",
   "nbconvert_exporter": "python",
   "pygments_lexer": "ipython3",
   "version": "3.7.3"
  }
 },
 "nbformat": 4,
 "nbformat_minor": 2
}
