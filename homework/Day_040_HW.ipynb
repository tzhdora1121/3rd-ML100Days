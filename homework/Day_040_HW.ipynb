{
 "cells": [
  {
   "cell_type": "markdown",
   "metadata": {},
   "source": [
    "## [作業重點]\n",
    "使用 Sklearn 中的 Lasso, Ridge 模型，來訓練各種資料集，務必了解送進去模型訓練的**資料型態**為何，也請了解模型中各項參數的意義。\n",
    "\n",
    "機器學習的模型非常多種，但要訓練的資料多半有固定的格式，確保你了解訓練資料的格式為何，這樣在應用新模型時，就能夠最快的上手開始訓練！"
   ]
  },
  {
   "cell_type": "markdown",
   "metadata": {},
   "source": [
    "## 練習時間\n",
    "試著使用 sklearn datasets 的其他資料集 (boston, ...)，來訓練自己的線性迴歸模型，並加上適當的正則化來觀察訓練情形。"
   ]
  },
  {
   "cell_type": "code",
   "execution_count": 1,
   "metadata": {},
   "outputs": [],
   "source": [
    "import numpy as np\n",
    "import matplotlib.pyplot as plt\n",
    "from sklearn import datasets, linear_model\n",
    "from sklearn.model_selection import train_test_split\n",
    "from sklearn.metrics import mean_squared_error, r2_score"
   ]
  },
  {
   "cell_type": "code",
   "execution_count": 7,
   "metadata": {},
   "outputs": [],
   "source": [
    "# 讀取糖尿病資料集\n",
    "wine = datasets.load_wine()\n",
    "\n",
    "# 切分訓練集/測試集\n",
    "x_train, x_test, y_train, y_test = train_test_split(wine.data, wine.target, test_size=0.2, random_state=4)\n",
    "\n",
    "# 建立一個線性回歸模型\n",
    "regr = linear_model.LinearRegression()\n",
    "\n",
    "# 將訓練資料丟進去模型訓練\n",
    "regr.fit(x_train, y_train)\n",
    "\n",
    "# 將測試資料丟進模型得到預測結果\n",
    "y_pred = regr.predict(x_test)"
   ]
  },
  {
   "cell_type": "code",
   "execution_count": 8,
   "metadata": {},
   "outputs": [
    {
     "name": "stdout",
     "output_type": "stream",
     "text": [
      "[-1.09099883e-01  1.67405249e-02 -2.18753671e-01  4.66803998e-02\n",
      "  3.20692287e-04  1.24491691e-01 -3.26192950e-01 -1.91327414e-01\n",
      "  3.72016066e-02  7.57429505e-02 -1.55979636e-01 -2.85946973e-01\n",
      " -7.51809245e-04]\n"
     ]
    }
   ],
   "source": [
    "print(regr.coef_)"
   ]
  },
  {
   "cell_type": "code",
   "execution_count": 9,
   "metadata": {},
   "outputs": [
    {
     "name": "stdout",
     "output_type": "stream",
     "text": [
      "Mean squared error: 0.07\n"
     ]
    }
   ],
   "source": [
    "# 預測值與實際值的差距，使用 MSE\n",
    "print(\"Mean squared error: %.2f\"\n",
    "      % mean_squared_error(y_test, y_pred))"
   ]
  },
  {
   "cell_type": "code",
   "execution_count": 10,
   "metadata": {},
   "outputs": [],
   "source": [
    "# 讀取糖尿病資料集\n",
    "wine = datasets.load_wine()\n",
    "\n",
    "# 切分訓練集/測試集\n",
    "x_train, x_test, y_train, y_test = train_test_split(wine.data, wine.target, test_size=0.2, random_state=4)\n",
    "\n",
    "# 建立一個線性回歸模型\n",
    "Lasso = linear_model.Lasso()\n",
    "\n",
    "# 將訓練資料丟進去模型訓練\n",
    "Lasso.fit(x_train, y_train)\n",
    "\n",
    "# 將測試資料丟進模型得到預測結果\n",
    "y_pred = Lasso.predict(x_test)"
   ]
  },
  {
   "cell_type": "code",
   "execution_count": 12,
   "metadata": {},
   "outputs": [
    {
     "name": "stdout",
     "output_type": "stream",
     "text": [
      "[ 0.          0.          0.          0.          0.         -0.\n",
      " -0.          0.         -0.          0.         -0.         -0.\n",
      " -0.00159714]\n"
     ]
    }
   ],
   "source": [
    "print(Lasso.coef_)"
   ]
  },
  {
   "cell_type": "code",
   "execution_count": 13,
   "metadata": {},
   "outputs": [
    {
     "name": "stdout",
     "output_type": "stream",
     "text": [
      "Mean squared error: 0.42\n"
     ]
    }
   ],
   "source": [
    "print('Mean squared error: %.2f' % mean_squared_error(y_test, y_pred))"
   ]
  },
  {
   "cell_type": "code",
   "execution_count": 24,
   "metadata": {},
   "outputs": [
    {
     "name": "stdout",
     "output_type": "stream",
     "text": [
      "Mean squared error: 0.07\n",
      "Mean squared error: 0.07\n",
      "Mean squared error: 0.07\n",
      "Mean squared error: 0.07\n",
      "Mean squared error: 0.08\n",
      "Mean squared error: 0.08\n",
      "Mean squared error: 0.08\n",
      "Mean squared error: 0.08\n",
      "Mean squared error: 0.08\n",
      "Mean squared error: 0.09\n",
      "Mean squared error: 0.09\n",
      "Mean squared error: 0.09\n",
      "Mean squared error: 0.09\n",
      "Mean squared error: 0.09\n",
      "Mean squared error: 0.09\n",
      "Mean squared error: 0.10\n",
      "Mean squared error: 0.10\n",
      "Mean squared error: 0.10\n",
      "Mean squared error: 0.10\n",
      "Mean squared error: 0.10\n",
      "Mean squared error: 0.10\n",
      "Mean squared error: 0.11\n",
      "Mean squared error: 0.11\n",
      "Mean squared error: 0.11\n",
      "Mean squared error: 0.11\n",
      "Mean squared error: 0.11\n",
      "Mean squared error: 0.11\n",
      "Mean squared error: 0.11\n",
      "Mean squared error: 0.12\n",
      "Mean squared error: 0.12\n",
      "Mean squared error: 0.12\n",
      "Mean squared error: 0.12\n",
      "Mean squared error: 0.12\n",
      "Mean squared error: 0.12\n",
      "Mean squared error: 0.12\n",
      "Mean squared error: 0.12\n",
      "Mean squared error: 0.13\n",
      "Mean squared error: 0.13\n",
      "Mean squared error: 0.13\n",
      "Mean squared error: 0.13\n",
      "Mean squared error: 0.13\n",
      "Mean squared error: 0.13\n",
      "Mean squared error: 0.13\n",
      "Mean squared error: 0.13\n",
      "Mean squared error: 0.13\n",
      "Mean squared error: 0.14\n",
      "Mean squared error: 0.14\n",
      "Mean squared error: 0.14\n",
      "Mean squared error: 0.14\n",
      "Mean squared error: 0.14\n",
      "Mean squared error: 0.14\n",
      "Mean squared error: 0.14\n",
      "Mean squared error: 0.14\n",
      "Mean squared error: 0.14\n",
      "Mean squared error: 0.14\n",
      "Mean squared error: 0.15\n",
      "Mean squared error: 0.15\n",
      "Mean squared error: 0.15\n",
      "Mean squared error: 0.15\n",
      "Mean squared error: 0.15\n",
      "Mean squared error: 0.15\n",
      "Mean squared error: 0.15\n",
      "Mean squared error: 0.15\n",
      "Mean squared error: 0.15\n",
      "Mean squared error: 0.15\n",
      "Mean squared error: 0.16\n",
      "Mean squared error: 0.16\n",
      "Mean squared error: 0.16\n",
      "Mean squared error: 0.16\n",
      "Mean squared error: 0.16\n",
      "Mean squared error: 0.16\n",
      "Mean squared error: 0.16\n",
      "Mean squared error: 0.16\n",
      "Mean squared error: 0.16\n",
      "Mean squared error: 0.16\n",
      "Mean squared error: 0.16\n",
      "Mean squared error: 0.16\n",
      "Mean squared error: 0.17\n",
      "Mean squared error: 0.17\n",
      "Mean squared error: 0.17\n",
      "Mean squared error: 0.17\n",
      "Mean squared error: 0.17\n",
      "Mean squared error: 0.17\n",
      "Mean squared error: 0.17\n",
      "Mean squared error: 0.17\n",
      "Mean squared error: 0.17\n",
      "Mean squared error: 0.17\n",
      "Mean squared error: 0.17\n",
      "Mean squared error: 0.17\n",
      "Mean squared error: 0.17\n",
      "Mean squared error: 0.18\n",
      "Mean squared error: 0.18\n",
      "Mean squared error: 0.18\n",
      "Mean squared error: 0.18\n",
      "Mean squared error: 0.18\n",
      "Mean squared error: 0.18\n",
      "Mean squared error: 0.18\n",
      "Mean squared error: 0.18\n",
      "Mean squared error: 0.18\n",
      "Mean squared error: 0.18\n"
     ]
    }
   ],
   "source": [
    "MSEs = []\n",
    "for k in range(100):\n",
    "    wine = datasets.load_wine()\n",
    "    x_train, x_test, y_train, y_test = train_test_split(wine.data, wine.target, test_size = 0.2, random_state = 4)\n",
    "    Ridge = linear_model.Ridge(alpha = 5*k)\n",
    "    Ridge.fit(x_train, y_train)\n",
    "    y_pred = Ridge.predict(x_test)\n",
    "    print('Mean squared error: %.2f' % mean_squared_error(y_test, y_pred))"
   ]
  }
 ],
 "metadata": {
  "kernelspec": {
   "display_name": "Python 3",
   "language": "python",
   "name": "python3"
  },
  "language_info": {
   "codemirror_mode": {
    "name": "ipython",
    "version": 3
   },
   "file_extension": ".py",
   "mimetype": "text/x-python",
   "name": "python",
   "nbconvert_exporter": "python",
   "pygments_lexer": "ipython3",
   "version": "3.7.3"
  }
 },
 "nbformat": 4,
 "nbformat_minor": 2
}
